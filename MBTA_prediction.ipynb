{
 "cells": [
  {
   "cell_type": "code",
   "execution_count": 1,
   "id": "352ea9b7",
   "metadata": {},
   "outputs": [],
   "source": [
    "import pandas as pd"
   ]
  },
  {
   "cell_type": "code",
   "execution_count": 2,
   "id": "ed0494c6",
   "metadata": {},
   "outputs": [
    {
     "name": "stderr",
     "output_type": "stream",
     "text": [
      "C:\\Users\\sgadi\\AppData\\Local\\Temp\\ipykernel_27884\\1251889741.py:1: DtypeWarning: Columns (1) have mixed types. Specify dtype option on import or set low_memory=False.\n",
      "  df=pd.read_csv('./dataset.csv')\n"
     ]
    },
    {
     "data": {
      "text/html": [
       "<div>\n",
       "<style scoped>\n",
       "    .dataframe tbody tr th:only-of-type {\n",
       "        vertical-align: middle;\n",
       "    }\n",
       "\n",
       "    .dataframe tbody tr th {\n",
       "        vertical-align: top;\n",
       "    }\n",
       "\n",
       "    .dataframe thead th {\n",
       "        text-align: right;\n",
       "    }\n",
       "</style>\n",
       "<table border=\"1\" class=\"dataframe\">\n",
       "  <thead>\n",
       "    <tr style=\"text-align: right;\">\n",
       "      <th></th>\n",
       "      <th>season</th>\n",
       "      <th>route_id</th>\n",
       "      <th>route_variant</th>\n",
       "      <th>direction_id</th>\n",
       "      <th>trip_start_time</th>\n",
       "      <th>day_type_id</th>\n",
       "      <th>day_type_name</th>\n",
       "      <th>stop_name</th>\n",
       "      <th>stop_id</th>\n",
       "      <th>stop_sequence</th>\n",
       "      <th>boardings</th>\n",
       "      <th>alightings</th>\n",
       "      <th>load_</th>\n",
       "      <th>sample_size</th>\n",
       "      <th>ObjectId</th>\n",
       "    </tr>\n",
       "  </thead>\n",
       "  <tbody>\n",
       "    <tr>\n",
       "      <th>0</th>\n",
       "      <td>Fall 2016</td>\n",
       "      <td>1</td>\n",
       "      <td>1-_-0</td>\n",
       "      <td>0</td>\n",
       "      <td>04:37:00</td>\n",
       "      <td>day_type_01</td>\n",
       "      <td>weekday</td>\n",
       "      <td>WASHINGTON ST OPP RUGGLES ST</td>\n",
       "      <td>1</td>\n",
       "      <td>2</td>\n",
       "      <td>0.4</td>\n",
       "      <td>0.3</td>\n",
       "      <td>7.8</td>\n",
       "      <td>13</td>\n",
       "      <td>1</td>\n",
       "    </tr>\n",
       "    <tr>\n",
       "      <th>1</th>\n",
       "      <td>Fall 2016</td>\n",
       "      <td>1</td>\n",
       "      <td>1-_-0</td>\n",
       "      <td>0</td>\n",
       "      <td>04:37:00</td>\n",
       "      <td>day_type_01</td>\n",
       "      <td>weekday</td>\n",
       "      <td>ALBANY ST OPP RANDALL ST</td>\n",
       "      <td>10003</td>\n",
       "      <td>5</td>\n",
       "      <td>0.1</td>\n",
       "      <td>0.0</td>\n",
       "      <td>9.4</td>\n",
       "      <td>13</td>\n",
       "      <td>2</td>\n",
       "    </tr>\n",
       "    <tr>\n",
       "      <th>2</th>\n",
       "      <td>Fall 2016</td>\n",
       "      <td>1</td>\n",
       "      <td>1-_-0</td>\n",
       "      <td>0</td>\n",
       "      <td>04:37:00</td>\n",
       "      <td>day_type_01</td>\n",
       "      <td>weekday</td>\n",
       "      <td>MASSACHUSETTS AVE @ SIDNEY ST</td>\n",
       "      <td>101</td>\n",
       "      <td>19</td>\n",
       "      <td>0.0</td>\n",
       "      <td>0.4</td>\n",
       "      <td>10.4</td>\n",
       "      <td>13</td>\n",
       "      <td>3</td>\n",
       "    </tr>\n",
       "    <tr>\n",
       "      <th>3</th>\n",
       "      <td>Fall 2016</td>\n",
       "      <td>1</td>\n",
       "      <td>1-_-0</td>\n",
       "      <td>0</td>\n",
       "      <td>04:37:00</td>\n",
       "      <td>day_type_01</td>\n",
       "      <td>weekday</td>\n",
       "      <td>MASSACHUSETTS AVE @ PROSPECT</td>\n",
       "      <td>102</td>\n",
       "      <td>20</td>\n",
       "      <td>0.6</td>\n",
       "      <td>2.5</td>\n",
       "      <td>8.5</td>\n",
       "      <td>13</td>\n",
       "      <td>4</td>\n",
       "    </tr>\n",
       "    <tr>\n",
       "      <th>4</th>\n",
       "      <td>Fall 2016</td>\n",
       "      <td>1</td>\n",
       "      <td>1-_-0</td>\n",
       "      <td>0</td>\n",
       "      <td>04:37:00</td>\n",
       "      <td>day_type_01</td>\n",
       "      <td>weekday</td>\n",
       "      <td>MASSACHUSETTS AVE @ BIGELOW S</td>\n",
       "      <td>104</td>\n",
       "      <td>21</td>\n",
       "      <td>0.1</td>\n",
       "      <td>0.2</td>\n",
       "      <td>8.4</td>\n",
       "      <td>13</td>\n",
       "      <td>5</td>\n",
       "    </tr>\n",
       "  </tbody>\n",
       "</table>\n",
       "</div>"
      ],
      "text/plain": [
       "      season route_id route_variant  direction_id trip_start_time  \\\n",
       "0  Fall 2016        1         1-_-0             0        04:37:00   \n",
       "1  Fall 2016        1         1-_-0             0        04:37:00   \n",
       "2  Fall 2016        1         1-_-0             0        04:37:00   \n",
       "3  Fall 2016        1         1-_-0             0        04:37:00   \n",
       "4  Fall 2016        1         1-_-0             0        04:37:00   \n",
       "\n",
       "   day_type_id day_type_name                      stop_name  stop_id  \\\n",
       "0  day_type_01       weekday   WASHINGTON ST OPP RUGGLES ST        1   \n",
       "1  day_type_01       weekday       ALBANY ST OPP RANDALL ST    10003   \n",
       "2  day_type_01       weekday  MASSACHUSETTS AVE @ SIDNEY ST      101   \n",
       "3  day_type_01       weekday   MASSACHUSETTS AVE @ PROSPECT      102   \n",
       "4  day_type_01       weekday  MASSACHUSETTS AVE @ BIGELOW S      104   \n",
       "\n",
       "   stop_sequence  boardings  alightings  load_  sample_size  ObjectId  \n",
       "0              2        0.4         0.3    7.8           13         1  \n",
       "1              5        0.1         0.0    9.4           13         2  \n",
       "2             19        0.0         0.4   10.4           13         3  \n",
       "3             20        0.6         2.5    8.5           13         4  \n",
       "4             21        0.1         0.2    8.4           13         5  "
      ]
     },
     "execution_count": 2,
     "metadata": {},
     "output_type": "execute_result"
    }
   ],
   "source": [
    "df=pd.read_csv('./dataset.csv')\n",
    "df.head()"
   ]
  },
  {
   "cell_type": "code",
   "execution_count": 3,
   "id": "ce3ca6ab",
   "metadata": {},
   "outputs": [
    {
     "name": "stdout",
     "output_type": "stream",
     "text": [
      "<class 'pandas.core.frame.DataFrame'>\n",
      "RangeIndex: 5164802 entries, 0 to 5164801\n",
      "Data columns (total 15 columns):\n",
      " #   Column           Dtype  \n",
      "---  ------           -----  \n",
      " 0   season           object \n",
      " 1   route_id         object \n",
      " 2   route_variant    object \n",
      " 3   direction_id     int64  \n",
      " 4   trip_start_time  object \n",
      " 5   day_type_id      object \n",
      " 6   day_type_name    object \n",
      " 7   stop_name        object \n",
      " 8   stop_id          int64  \n",
      " 9   stop_sequence    int64  \n",
      " 10  boardings        float64\n",
      " 11  alightings       float64\n",
      " 12  load_            float64\n",
      " 13  sample_size      int64  \n",
      " 14  ObjectId         int64  \n",
      "dtypes: float64(3), int64(5), object(7)\n",
      "memory usage: 591.1+ MB\n"
     ]
    }
   ],
   "source": [
    "df.info()"
   ]
  },
  {
   "cell_type": "code",
   "execution_count": null,
   "id": "2e22b60d",
   "metadata": {},
   "outputs": [],
   "source": [
    "df.describe()"
   ]
  },
  {
   "cell_type": "markdown",
   "id": "8c5bc52f",
   "metadata": {},
   "source": [
    "## EDA"
   ]
  },
  {
   "cell_type": "code",
   "execution_count": null,
   "id": "7befea1f",
   "metadata": {},
   "outputs": [],
   "source": [
    "df['route_id'].nunique()"
   ]
  },
  {
   "cell_type": "code",
   "execution_count": null,
   "id": "92e9492b",
   "metadata": {},
   "outputs": [],
   "source": [
    "#### Correlation analysis\n",
    "df_corr=data.corr()\n",
    "\n",
    "import seaborn as sns\n",
    "import matplotlib.pyplot as plt\n",
    "fig, ax = plt.subplots(figsize=(15,10))\n",
    "sns.heatmap(df_corr, annot=True, cmap=\"YlGnBu\", ax=ax)\n",
    "plt.show()\n"
   ]
  },
  {
   "cell_type": "markdown",
   "id": "a5ba058d",
   "metadata": {},
   "source": [
    "#### There are around 220 different route information in our dataset"
   ]
  },
  {
   "cell_type": "code",
   "execution_count": null,
   "id": "6f9e279e",
   "metadata": {},
   "outputs": [],
   "source": [
    "grouped_df = df.groupby('route_id')['route_variant'].nunique()\n",
    "\n",
    "print(grouped_df)"
   ]
  },
  {
   "cell_type": "markdown",
   "id": "407a2bb7",
   "metadata": {},
   "source": [
    "#### We can see that there are multiple route variant for each route id. \n",
    "When explored further, we noticed that each route can have multiple variant by making a stop in a particular station or not. \n",
    "This forms a new variant of a route. This can have some impact on load on the bus by making a stop or not at a particular bus stop"
   ]
  },
  {
   "cell_type": "code",
   "execution_count": null,
   "id": "917d2560",
   "metadata": {},
   "outputs": [],
   "source": [
    "df['direction_id'].unique()"
   ]
  },
  {
   "cell_type": "markdown",
   "id": "8c2361c0",
   "metadata": {},
   "source": [
    "#### Direction id has two values 0,1 indicating the direction of bus in opposite sides"
   ]
  },
  {
   "cell_type": "code",
   "execution_count": null,
   "id": "4707f08f",
   "metadata": {},
   "outputs": [],
   "source": [
    "min_time = df['trip_start_time'].min()\n",
    "max_time = df['trip_start_time'].max()\n",
    "\n",
    "print(f\"Minimum time: {min_time}\")\n",
    "print(f\"Maximum time: {max_time}\")"
   ]
  },
  {
   "cell_type": "markdown",
   "id": "a3e9c3cc",
   "metadata": {},
   "source": [
    "#### We can see that there are start times above 23:59. \n",
    "As per the data dictionary provided,Trips starting after 11:59 PM are represented as 24:00 plus their 24-hour time. \n",
    "For example, a trip starting at 1:30 AM will be 25:30:00. \n"
   ]
  },
  {
   "cell_type": "code",
   "execution_count": null,
   "id": "f0724767",
   "metadata": {},
   "outputs": [],
   "source": [
    "filtered_df = df[(df['trip_start_time'] == '01:30:00') | (df['trip_start_time'] == '25:30:00')]\n",
    "\n",
    "print(filtered_df)"
   ]
  },
  {
   "cell_type": "markdown",
   "id": "e29161af",
   "metadata": {},
   "source": [
    "#### We can see that there are records for both 1:30 and also 25:30 "
   ]
  },
  {
   "cell_type": "code",
   "execution_count": null,
   "id": "7e27623e",
   "metadata": {},
   "outputs": [],
   "source": [
    "# We are removing all the records with 24+ hours format \n",
    "df['trip_start_time'] = pd.to_datetime(df['trip_start_time'], format='%H:%M:%S', errors='coerce')\n",
    "\n",
    "# Remove all records with an invalid time value\n",
    "df = df[df['trip_start_time'].notnull()]\n",
    "\n",
    "# Remove all records with a time value greater than 23:59:59\n",
    "df = df[df['trip_start_time'] <= pd.to_datetime('23:59:59', format='%H:%M:%S')]\n",
    "\n",
    "\n"
   ]
  },
  {
   "cell_type": "code",
   "execution_count": null,
   "id": "76906031",
   "metadata": {},
   "outputs": [],
   "source": [
    "df['day_type_name'].unique()"
   ]
  },
  {
   "cell_type": "markdown",
   "id": "91ca0c4d",
   "metadata": {},
   "source": [
    "#### there are 3 unique values for day type name. For simplicity, lets change saturday and sunday to weekend`"
   ]
  },
  {
   "cell_type": "code",
   "execution_count": null,
   "id": "917fe557",
   "metadata": {},
   "outputs": [],
   "source": [
    "# replace weekend days with 'weekend'\n",
    "df['day_type_name'].replace(['saturday', 'sunday'], 'weekend', inplace=True)\n",
    "df['day_type_name'].unique()"
   ]
  },
  {
   "cell_type": "code",
   "execution_count": 4,
   "id": "412c92f2",
   "metadata": {},
   "outputs": [
    {
     "name": "stdout",
     "output_type": "stream",
     "text": [
      "<class 'pandas.core.frame.DataFrame'>\n",
      "RangeIndex: 5164802 entries, 0 to 5164801\n",
      "Data columns (total 15 columns):\n",
      " #   Column           Dtype  \n",
      "---  ------           -----  \n",
      " 0   season           object \n",
      " 1   route_id         object \n",
      " 2   route_variant    object \n",
      " 3   direction_id     int64  \n",
      " 4   trip_start_time  object \n",
      " 5   day_type_id      object \n",
      " 6   day_type_name    object \n",
      " 7   stop_name        object \n",
      " 8   stop_id          int64  \n",
      " 9   stop_sequence    int64  \n",
      " 10  boardings        float64\n",
      " 11  alightings       float64\n",
      " 12  load_            float64\n",
      " 13  sample_size      int64  \n",
      " 14  ObjectId         int64  \n",
      "dtypes: float64(3), int64(5), object(7)\n",
      "memory usage: 591.1+ MB\n"
     ]
    }
   ],
   "source": [
    "df.info()"
   ]
  },
  {
   "cell_type": "markdown",
   "id": "38c35b61",
   "metadata": {},
   "source": [
    "#### Here we observe the distribution of boardings variable "
   ]
  },
  {
   "cell_type": "code",
   "execution_count": 5,
   "id": "a22470f2",
   "metadata": {},
   "outputs": [
    {
     "data": {
      "image/png": "[encoded data removed]",
      "text/plain": [
       "<Figure size 640x480 with 1 Axes>"
      ]
     },
     "metadata": {},
     "output_type": "display_data"
    }
   ],
   "source": [
    "import matplotlib.pyplot as plt\n",
    "\n",
    "# generate some random data\n",
    "data = df['boardings']\n",
    "\n",
    "# create a boxplot\n",
    "fig, ax = plt.subplots()\n",
    "ax.boxplot(data)\n",
    "\n",
    "# set axis labels and title\n",
    "ax.set_xlabel('Boardings')\n",
    "ax.set_ylabel(' Values')\n",
    "ax.set_title('Boxplot of boardings Variable')\n",
    "plt.show()"
   ]
  },
  {
   "cell_type": "markdown",
   "id": "b5ee41dd",
   "metadata": {},
   "source": [
    "#### Here we observe the distribution of alightings variable "
   ]
  },
  {
   "cell_type": "code",
   "execution_count": 6,
   "id": "e749856e",
   "metadata": {},
   "outputs": [
    {
     "data": {
      "image/png": "[encoded data removed]",
      "text/plain": [
       "<Figure size 640x480 with 1 Axes>"
      ]
     },
     "metadata": {},
     "output_type": "display_data"
    }
   ],
   "source": [
    "import matplotlib.pyplot as plt\n",
    "\n",
    "# generate some random data\n",
    "data = df['alightings']\n",
    "\n",
    "# create a boxplot\n",
    "fig, ax = plt.subplots()\n",
    "ax.boxplot(data)\n",
    "\n",
    "# set axis labels and title\n",
    "ax.set_xlabel('alightings')\n",
    "ax.set_ylabel(' Values')\n",
    "ax.set_title('Boxplot of alightings Variable')\n",
    "plt.show()"
   ]
  },
  {
   "cell_type": "markdown",
   "id": "24587a04",
   "metadata": {},
   "source": [
    "#### Lets find the distribution of our predictor variable "
   ]
  },
  {
   "cell_type": "code",
   "execution_count": 7,
   "id": "f8f39713",
   "metadata": {},
   "outputs": [
    {
     "data": {
      "image/png": "[encoded data removed]",
      "text/plain": [
       "<Figure size 640x480 with 1 Axes>"
      ]
     },
     "metadata": {},
     "output_type": "display_data"
    }
   ],
   "source": [
    "import matplotlib.pyplot as plt\n",
    "\n",
    "# generate some random data\n",
    "data = df['load_']\n",
    "\n",
    "# create a boxplot\n",
    "fig, ax = plt.subplots()\n",
    "ax.boxplot(data)\n",
    "\n",
    "# set axis labels and title\n",
    "ax.set_xlabel('Load')\n",
    "ax.set_ylabel(' Values')\n",
    "ax.set_title('Boxplot of load Variable')\n",
    "plt.show()"
   ]
  },
  {
   "cell_type": "code",
   "execution_count": null,
   "id": "b65d57dc",
   "metadata": {},
   "outputs": [],
   "source": [
    "##we drop the columns which are not significant and repetitive from the nature of the data and domain knowledge\n",
    "col = [ 'day_type_id','stop_id','sample_size','ObjectId']\n",
    "df_final = df.copy()\n",
    "for i in col:\n",
    "    df_final=df_final.drop(i, axis =1)\n",
    "    "
   ]
  },
  {
   "cell_type": "markdown",
   "id": "c04c6628",
   "metadata": {},
   "source": [
    "### Feature engineering"
   ]
  },
  {
   "cell_type": "code",
   "execution_count": null,
   "id": "ca280945",
   "metadata": {},
   "outputs": [],
   "source": [
    "# Define a function to map peak/non peak hours flag based on the hours information given by MBTA \n",
    "#7am-9am and 4pm to 6.30pm is taken as peak hours \n",
    "\n",
    "import datetime\n",
    "\n",
    "def is_peak_hour(time_str):\n",
    "    time = pd.to_datetime(time_str,format=\"%H:%M:%S\").time()\n",
    "    if ((time >= pd.Timestamp('7:00:00').time() and time <= pd.Timestamp('8:59:59').time()) or\n",
    "        (time >= pd.Timestamp('16:00:00').time() and time <= pd.Timestamp('18:29:59').time())):\n",
    "        return 1\n",
    "    else:\n",
    "        return 0\n",
    "\n",
    "\n",
    "df_final['Peak Hour'] = df_final['trip_start_time'].apply(is_peak_hour)\n",
    "\n"
   ]
  },
  {
   "cell_type": "code",
   "execution_count": null,
   "id": "c7606b68",
   "metadata": {},
   "outputs": [],
   "source": [
    "\n",
    "import matplotlib.pyplot as plt \n",
    "# Group by the peak hour and calculate the mean sales\n",
    "peak_hour_sales = df_final.groupby('Peak Hour')['load_'].mean()\n",
    "\n",
    "# Plot the results\n",
    "peak_hour_sales.plot(kind='bar')\n",
    "# set the title\n",
    "plt.title('Average load by Time period')\n",
    "\n",
    "# show the plot\n",
    "plt.show()"
   ]
  },
  {
   "cell_type": "code",
   "execution_count": null,
   "id": "9abfd4dc",
   "metadata": {},
   "outputs": [],
   "source": [
    "df_final.head()"
   ]
  },
  {
   "cell_type": "code",
   "execution_count": null,
   "id": "f30d3b67",
   "metadata": {},
   "outputs": [],
   "source": [
    "df_final.info()"
   ]
  },
  {
   "cell_type": "code",
   "execution_count": null,
   "id": "08959d4c",
   "metadata": {},
   "outputs": [],
   "source": [
    "df_final.to_csv('encoded.csv',index=False)"
   ]
  },
  {
   "cell_type": "markdown",
   "id": "6622a4f2",
   "metadata": {},
   "source": [
    "####  Encoding \n"
   ]
  },
  {
   "cell_type": "code",
   "execution_count": null,
   "id": "457925e8",
   "metadata": {},
   "outputs": [],
   "source": [
    "\n",
    "from sklearn.preprocessing import LabelEncoder\n",
    "\n",
    "# Create a label encoder object\n",
    "encoder = LabelEncoder()\n",
    "\n",
    "# Convert columns to string type\n",
    "df_final[\"season\"] = df_final[\"season\"].astype(str)\n",
    "df_final[\"day_type_name\"] = df_final[\"day_type_name\"].astype(str)\n",
    "df_final[\"stop_name\"] = df_final[\"stop_name\"].astype(str)\n",
    "df_final[\"route_id\"] = df_final[\"route_id\"].astype(str)\n",
    "\n",
    "# Label encode the categorical variables\n",
    "df_final[\"season\"] = encoder.fit_transform(df_final[\"season\"])\n",
    "df_final[\"day_type_name\"] = encoder.fit_transform(df_final[\"day_type_name\"])\n",
    "df_final[\"stop_name\"] = encoder.fit_transform(df_final[\"stop_name\"])\n",
    "df_final[\"route_id\"] = encoder.fit_transform(df_final[\"route_id\"])\n",
    "df_final[\"trip_start_time\"] = encoder.fit_transform(df_final[\"trip_start_time\"])\n",
    "\n",
    "\n",
    "\n",
    "df_final.head()\n"
   ]
  },
  {
   "cell_type": "code",
   "execution_count": null,
   "id": "cfb65001",
   "metadata": {},
   "outputs": [],
   "source": [
    "##Frequency encoding Route Variant column since it has both string and numerical data \n",
    "## it also has large number of unique values. Hence label encoding is not suitable \n",
    "\n",
    "# Calculate the frequency of each category in the column\n",
    "freq = df_final['route_variant'].value_counts(normalize=True)\n",
    "\n",
    "# Replace each category with its frequency\n",
    "df_final['route_variant'] = df_final['route_variant'].map(freq)\n",
    "\n",
    "# Print the encoded DataFrame\n",
    "df_final.head()"
   ]
  },
  {
   "cell_type": "markdown",
   "id": "7d46a38f",
   "metadata": {},
   "source": [
    "### Modelling"
   ]
  },
  {
   "cell_type": "code",
   "execution_count": 8,
   "id": "4dc9fdcb",
   "metadata": {},
   "outputs": [],
   "source": [
    "import pandas as pd\n",
    "df_final=pd.read_csv('./encoded.csv')"
   ]
  },
  {
   "cell_type": "code",
   "execution_count": 9,
   "id": "6b35101e",
   "metadata": {},
   "outputs": [],
   "source": [
    "from sklearn.model_selection import train_test_split\n",
    "from sklearn.linear_model import LinearRegression\n",
    "from sklearn.neighbors import KNeighborsRegressor\n",
    "from sklearn.metrics import mean_squared_error, r2_score\n",
    "\n",
    "# Split the data into features (X) and target variable (y)\n",
    "X = df_final.drop('load_', axis=1)\n",
    "y = df_final['load_']\n",
    "\n",
    "# Split the data into training and testing sets\n",
    "X_train, X_test, y_train, y_test = train_test_split(X, y, test_size=0.3, random_state=42)\n",
    "del(df_final)"
   ]
  },
  {
   "cell_type": "code",
   "execution_count": null,
   "id": "bce7e68b",
   "metadata": {},
   "outputs": [],
   "source": [
    "from sklearn.model_selection import train_test_split\n",
    "from sklearn.linear_model import LinearRegression\n",
    "from sklearn.neighbors import KNeighborsRegressor\n",
    "from sklearn.metrics import mean_squared_error, r2_score\n",
    "\n",
    "\n",
    "# Fit linear regression model\n",
    "lr = LinearRegression()\n",
    "lr.fit(X_train, y_train)\n",
    "y_pred_lr = lr.predict(X_test)\n",
    "mse_lr = mean_squared_error(y_test, y_pred_lr)\n",
    "r2_lr = r2_score(y_test, y_pred_lr)\n",
    "\n",
    "\n",
    "\n",
    "# Print performance metrics\n",
    "print(\"Linear Regression - MSE:\", mse_lr, \"R2:\", r2_lr)\n",
    "\n",
    "\n"
   ]
  },
  {
   "cell_type": "code",
   "execution_count": null,
   "id": "b631d925",
   "metadata": {},
   "outputs": [],
   "source": [
    "##Ridge regression\n",
    "from sklearn.linear_model import Ridge\n",
    "from sklearn.metrics import mean_squared_error\n",
    "\n",
    "\n",
    "# Create ridge regression model\n",
    "ridge = Ridge(alpha=0.1)\n",
    "\n",
    "# Fit model to training data\n",
    "ridge.fit(X_train, y_train)\n",
    "\n",
    "# Predict on test data\n",
    "y_pred = ridge.predict(X_test)\n",
    "\n",
    "# Compute performance metrics\n",
    "r2 = ridge.score(X_test, y_test)\n",
    "mse = mean_squared_error(y_test, y_pred)\n",
    "rmse = np.sqrt(mse)\n",
    "\n",
    "# Print performance metrics\n",
    "print(\"R^2:\", r2)\n",
    "print(\"MSE:\", mse)\n",
    "print(\"RMSE:\", rmse)\n"
   ]
  },
  {
   "cell_type": "code",
   "execution_count": null,
   "id": "da8fa446",
   "metadata": {},
   "outputs": [],
   "source": [
    "##LASSO regression\n",
    "from sklearn.linear_model import Lasso\n",
    "\n",
    "from sklearn.metrics import mean_squared_error\n",
    "\n",
    "\n",
    "# Create lasso regression model\n",
    "lasso = Lasso(alpha=0.1)\n",
    "\n",
    "# Fit model to training data\n",
    "lasso.fit(X_train, y_train)\n",
    "\n",
    "# Predict on test data\n",
    "y_pred = lasso.predict(X_test)\n",
    "\n",
    "# Compute performance metrics\n",
    "r2 = lasso.score(X_test, y_test)\n",
    "mse = mean_squared_error(y_test, y_pred)\n",
    "rmse = np.sqrt(mse)\n",
    "\n",
    "# Print performance metrics\n",
    "print(\"R^2:\", r2)\n",
    "print(\"MSE:\", mse)\n",
    "print(\"RMSE:\", rmse)\n"
   ]
  },
  {
   "cell_type": "code",
   "execution_count": null,
   "id": "3952d2b8",
   "metadata": {},
   "outputs": [],
   "source": [
    "from sklearn.neighbors import KNeighborsRegressor\n",
    "import numpy as np\n",
    "\n",
    "# Fit a KNN regressor on the training data\n",
    "knn = KNeighborsRegressor(n_neighbors=5)\n",
    "knn.fit(X_train, y_train)\n",
    "# Evaluate the KNN regressor on the testing data\n",
    "knn_predictions = knn.predict(X_test)\n",
    "knn_rmse = np.sqrt(mean_squared_error(y_test, knn_predictions))\n",
    "knn_mse = mean_squared_error(y_test, knn_predictions)\n",
    "knn_r2= r2_score(y_test, knn_predictions)\n",
    "\n",
    "print(\"KNN MSE:\", knn_mse)\n",
    "print(\"KNN RMSE:\", knn_rmse)\n",
    "print(\"KNN R2:\", knn_r2)\n",
    "\n"
   ]
  },
  {
   "cell_type": "code",
   "execution_count": 7,
   "id": "5ee901ad",
   "metadata": {},
   "outputs": [
    {
     "name": "stdout",
     "output_type": "stream",
     "text": [
      "Decision Tree Regression - MSE: 15.211226983868432 R2: 0.7885670069785404\n",
      "Random Forest Regression - MSE: 8.721605400236337 R2: 0.8787714406155598\n",
      "Decision Tree Regression - RMSE: 3.9001573024518423 R2: 0.7885670069785404\n",
      "Random Forest Regression - RMSE: 2.9532364280965275 R2: 0.8787714406155598\n"
     ]
    }
   ],
   "source": [
    "##decision and radom forest \n",
    "import numpy as np\n",
    "from sklearn.tree import DecisionTreeRegressor\n",
    "from sklearn.ensemble import RandomForestRegressor\n",
    "\n",
    "# Fit decision tree regression model\n",
    "dtr = DecisionTreeRegressor()\n",
    "dtr.fit(X_train, y_train)\n",
    "y_pred_dtr = dtr.predict(X_test)\n",
    "mse_dtr = mean_squared_error(y_test, y_pred_dtr)\n",
    "r2_dtr = r2_score(y_test, y_pred_dtr)\n",
    "rmse_dtr=np.sqrt(mse_dtr)\n",
    "\n",
    "# Fit random forest regression model\n",
    "rfr = RandomForestRegressor(n_estimators=10)\n",
    "rfr.fit(X_train, y_train)\n",
    "y_pred_rfr = rfr.predict(X_test)\n",
    "mse_rfr = mean_squared_error(y_test, y_pred_rfr)\n",
    "rmse_rfr=np.sqrt(mse_rfr)\n",
    "r2_rfr = r2_score(y_test, y_pred_rfr)\n",
    "\n",
    "\n",
    "\n",
    "print(\"Decision Tree Regression - MSE:\", mse_dtr, \"R2:\", r2_dtr)\n",
    "print(\"Random Forest Regression - MSE:\", mse_rfr, \"R2:\", r2_rfr)\n",
    "print(\"Decision Tree Regression - RMSE:\",rmse_dtr, \"R2:\", r2_dtr)\n",
    "print(\"Random Forest Regression - RMSE:\",rmse_rfr, \"R2:\", r2_rfr)\n"
   ]
  },
  {
   "cell_type": "markdown",
   "id": "54ad866f",
   "metadata": {},
   "source": [
    "## From the above, we noticed that Random forest performed the best among all the models that we explored "
   ]
  },
  {
   "cell_type": "markdown",
   "id": "09ca1f98",
   "metadata": {},
   "source": [
    "### Model understanding using feature importance \n",
    "A simple way of understanding the results of a model is to look at feature importances. Feature\n",
    "importances indicate the importance of a feature within the predictive model, there are several\n",
    "ways to calculate feature importance, but with the Random Forest classifier, we’re able to extract\n",
    "feature importances using the built-in method on the trained model. In the Random Forest case,\n",
    "the feature importance represents the number of times each feature is used for splitting across all\n",
    "trees.\n"
   ]
  },
  {
   "cell_type": "code",
   "execution_count": 12,
   "id": "587f38b8",
   "metadata": {},
   "outputs": [],
   "source": [
    "feature_importances = pd.DataFrame({\n",
    "'features': X_train.columns,\n",
    "'importance': rfr.feature_importances_\n",
    "}).sort_values(by='importance', ascending=True).reset_index()\n"
   ]
  },
  {
   "cell_type": "code",
   "execution_count": 21,
   "id": "11bce9f7",
   "metadata": {},
   "outputs": [
    {
     "data": {
      "image/png": "[encoded data removed]",
      "text/plain": [
       "<Figure size 500x500 with 1 Axes>"
      ]
     },
     "metadata": {},
     "output_type": "display_data"
    }
   ],
   "source": [
    "import matplotlib.pyplot as plt\n",
    "plt.figure(figsize=(5, 5))\n",
    "plt.title('Feature Importances')\n",
    "plt.barh(range(len(feature_importances)), feature_importances['importance'],color='b', align='center')\n",
    "plt.yticks(range(len(feature_importances)), feature_importances['features'])\n",
    "plt.xlabel('Importance')\n",
    "plt.show()\n"
   ]
  },
  {
   "cell_type": "markdown",
   "id": "04dc6483",
   "metadata": {},
   "source": [
    "#### Here we do hyperparameter tuning for random forest with the help of randomizedsearchCv since the dataset is huge"
   ]
  },
  {
   "cell_type": "code",
   "execution_count": 11,
   "id": "b620daa1",
   "metadata": {},
   "outputs": [
    {
     "name": "stdout",
     "output_type": "stream",
     "text": [
      "Fitting 3 folds for each of 10 candidates, totalling 30 fits\n",
      "Best Parameters: {'n_estimators': 30, 'min_samples_leaf': 4, 'max_depth': None}\n",
      "Best Score: 0.8481635887669707\n"
     ]
    }
   ],
   "source": [
    "from sklearn.ensemble import RandomForestRegressor\n",
    "from sklearn.model_selection import RandomizedSearchCV\n",
    "import numpy as np\n",
    "\n",
    "# Define the random forest model\n",
    "rf = RandomForestRegressor()\n",
    "\n",
    "# Define the hyperparameters you want to tune and their respective ranges\n",
    "param_grid = {\n",
    "    'n_estimators': [10, 20, 30],\n",
    "    'max_depth': [None, 5, 10, 20],\n",
    "   # 'min_samples_split': [2, 5, 10],\n",
    "    'min_samples_leaf': [1, 2, 4]\n",
    "}\n",
    "\n",
    "# Define the random search object with the specified parameters\n",
    "rf_random = RandomizedSearchCV(estimator=rf, param_distributions=param_grid,\n",
    "                               n_iter=10, cv=3, verbose=4, random_state=42,\n",
    "                               n_jobs=-1)\n",
    "\n",
    "# Fit the random search object to the data\n",
    "rf_random.fit(X_train, y_train)\n",
    "\n",
    "# Print the best parameters and its score\n",
    "print(\"Best Parameters:\", rf_random.best_params_)\n",
    "print(\"Best Score:\", rf_random.best_score_)\n"
   ]
  }
 ],
 "metadata": {
  "kernelspec": {
   "display_name": "Python 3 (ipykernel)",
   "language": "python",
   "name": "python3"
  },
  "language_info": {
   "codemirror_mode": {
    "name": "ipython",
    "version": 3
   },
   "file_extension": ".py",
   "mimetype": "text/x-python",
   "name": "python",
   "nbconvert_exporter": "python",
   "pygments_lexer": "ipython3",
   "version": "3.9.13"
  }
 },
 "nbformat": 4,
 "nbformat_minor": 5
}
